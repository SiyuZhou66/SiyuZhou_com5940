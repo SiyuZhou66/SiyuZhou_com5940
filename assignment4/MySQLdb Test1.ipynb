{
 "cells": [
  {
   "cell_type": "code",
   "execution_count": 6,
   "metadata": {},
   "outputs": [
    {
     "name": "stdout",
     "output_type": "stream",
     "text": [
      "Requirement already satisfied: PyMySQL in /opt/anaconda3/lib/python3.7/site-packages (0.9.3)\r\n"
     ]
    }
   ],
   "source": [
    "!pip install PyMySQL"
   ]
  },
  {
   "cell_type": "code",
   "execution_count": 7,
   "metadata": {},
   "outputs": [
    {
     "name": "stdout",
     "output_type": "stream",
     "text": [
      "Collecting flask_login\n",
      "  Downloading https://files.pythonhosted.org/packages/2b/83/ac5bf3279f969704fc1e63f050c50e10985e50fd340e6069ec7e09df5442/Flask_Login-0.5.0-py2.py3-none-any.whl\n",
      "Requirement already satisfied: Flask in /opt/anaconda3/lib/python3.7/site-packages (from flask_login) (1.1.1)\n",
      "Requirement already satisfied: Werkzeug>=0.15 in /opt/anaconda3/lib/python3.7/site-packages (from Flask->flask_login) (0.16.0)\n",
      "Requirement already satisfied: click>=5.1 in /opt/anaconda3/lib/python3.7/site-packages (from Flask->flask_login) (7.0)\n",
      "Requirement already satisfied: itsdangerous>=0.24 in /opt/anaconda3/lib/python3.7/site-packages (from Flask->flask_login) (1.1.0)\n",
      "Requirement already satisfied: Jinja2>=2.10.1 in /opt/anaconda3/lib/python3.7/site-packages (from Flask->flask_login) (2.10.3)\n",
      "Requirement already satisfied: MarkupSafe>=0.23 in /opt/anaconda3/lib/python3.7/site-packages (from Jinja2>=2.10.1->Flask->flask_login) (1.1.1)\n",
      "Installing collected packages: flask-login\n",
      "Successfully installed flask-login-0.5.0\n"
     ]
    }
   ],
   "source": [
    "!pip install flask_login\n"
   ]
  },
  {
   "cell_type": "code",
   "execution_count": 8,
   "metadata": {},
   "outputs": [
    {
     "name": "stdout",
     "output_type": "stream",
     "text": [
      "Collecting flask_cors\n",
      "  Downloading https://files.pythonhosted.org/packages/78/38/e68b11daa5d613e3a91e4bf3da76c94ac9ee0d9cd515af9c1ab80d36f709/Flask_Cors-3.0.8-py2.py3-none-any.whl\n",
      "Requirement already satisfied: Flask>=0.9 in /opt/anaconda3/lib/python3.7/site-packages (from flask_cors) (1.1.1)\n",
      "Requirement already satisfied: Six in /opt/anaconda3/lib/python3.7/site-packages (from flask_cors) (1.12.0)\n",
      "Requirement already satisfied: Werkzeug>=0.15 in /opt/anaconda3/lib/python3.7/site-packages (from Flask>=0.9->flask_cors) (0.16.0)\n",
      "Requirement already satisfied: itsdangerous>=0.24 in /opt/anaconda3/lib/python3.7/site-packages (from Flask>=0.9->flask_cors) (1.1.0)\n",
      "Requirement already satisfied: click>=5.1 in /opt/anaconda3/lib/python3.7/site-packages (from Flask>=0.9->flask_cors) (7.0)\n",
      "Requirement already satisfied: Jinja2>=2.10.1 in /opt/anaconda3/lib/python3.7/site-packages (from Flask>=0.9->flask_cors) (2.10.3)\n",
      "Requirement already satisfied: MarkupSafe>=0.23 in /opt/anaconda3/lib/python3.7/site-packages (from Jinja2>=2.10.1->Flask>=0.9->flask_cors) (1.1.1)\n",
      "Installing collected packages: flask-cors\n",
      "Successfully installed flask-cors-3.0.8\n"
     ]
    }
   ],
   "source": [
    "!pip install flask_cors"
   ]
  },
  {
   "cell_type": "code",
   "execution_count": 13,
   "metadata": {},
   "outputs": [
    {
     "ename": "ModuleNotFoundError",
     "evalue": "No module named 'MySQLdb'",
     "output_type": "error",
     "traceback": [
      "\u001b[0;31m---------------------------------------------------------------------------\u001b[0m",
      "\u001b[0;31mModuleNotFoundError\u001b[0m                       Traceback (most recent call last)",
      "\u001b[0;32m<ipython-input-13-3d458ffe61fc>\u001b[0m in \u001b[0;36m<module>\u001b[0;34m\u001b[0m\n\u001b[1;32m      5\u001b[0m \u001b[0;32mfrom\u001b[0m \u001b[0mflask_cors\u001b[0m \u001b[0;32mimport\u001b[0m \u001b[0mCORS\u001b[0m\u001b[0;34m\u001b[0m\u001b[0;34m\u001b[0m\u001b[0m\n\u001b[1;32m      6\u001b[0m \u001b[0;34m\u001b[0m\u001b[0m\n\u001b[0;32m----> 7\u001b[0;31m \u001b[0;32mimport\u001b[0m \u001b[0mMySQLdb\u001b[0m\u001b[0;34m\u001b[0m\u001b[0;34m\u001b[0m\u001b[0m\n\u001b[0m\u001b[1;32m      8\u001b[0m \u001b[0;34m\u001b[0m\u001b[0m\n\u001b[1;32m      9\u001b[0m \u001b[0;31m######### Initialize Flask App ##########\u001b[0m\u001b[0;34m\u001b[0m\u001b[0;34m\u001b[0m\u001b[0;34m\u001b[0m\u001b[0m\n",
      "\u001b[0;31mModuleNotFoundError\u001b[0m: No module named 'MySQLdb'"
     ]
    }
   ],
   "source": [
    "from flask import Flask, render_template, url_for, redirect, request, make_response, Response, jsonify\n",
    "from flask_login import LoginManager, login_user, logout_user, login_required, UserMixin\n",
    "\n",
    "import MySQLdb\n",
    "\n",
    "app = Flask(__name__)\n",
    "\n",
    "login_manager = LoginManager()\n",
    "login_manager.init_app(app)\n",
    "login_manager.login_view = 'login'\n",
    "app.config['SECRET_KEY'] = \"lkkajdghdadkglajkgah\"\n",
    "\n",
    "@login_manager.user_loader\n",
    "def load_user(user_id):\n",
    "    return User(user_id)\n",
    "\n",
    "class User(UserMixin):\n",
    "  def __init__(self,id):\n",
    "    self.id = id\n",
    "\n",
    "############ Web Page Routes Setup ###############\n",
    "\n",
    "@app.route(\"/\")\n",
    "@login_required\n",
    "def home():\n",
    "    return render_template('home.html')\n",
    "\n",
    "@app.route(\"/login\")\n",
    "def login():\n",
    "    message = 'Please login in first.'\n",
    "    return render_template('login.html', message=message)\n",
    "\n",
    "@app.route('/query_auth')\n",
    "def query_auth():\n",
    "    username = request.args.get(\"username\")\n",
    "    password = request.args.get(\"password\")\n",
    "    if username == \"1155131606@link.cuhk.edu.hk\" and password == \"1234\":\n",
    "        login_user(User(1))\n",
    "        message = \"Dear \" + username + \", welcome to Siyu's pages. Your login has been granted.\"\n",
    "        return make_response(message, 200, )\n",
    "    else:\n",
    "        message = 'Wrong password!'\n",
    "        return make_response( message,401,{'WWW-Authenticate':'Basic realm=\"Login Required\"'})\n",
    "\n",
    "@app.route(\"/form_auth\",methods=['POST'])\n",
    "def form_auth():\n",
    "    username = request.form['email']\n",
    "    password = request.form['pwd']\n",
    "    if username == \"1155131606@link.cuhk.edu.hk\" and password == \"1234\":\n",
    "        login_user(User(1))\n",
    "        message = \"Dear \" + username + \", welcome to Siyu's pages. Your login has been granted.\"\n",
    "        return render_template('home.html', message=message)\n",
    "    else:\n",
    "        message = 'Wrong password!'\n",
    "        return render_template('login.html',message=message)\n",
    "\n",
    "@app.route('/album')\n",
    "@login_required\n",
    "def album():\n",
    "    connection = MySQLdb.connect(host=\"SiyuZhou66.mysql.pythonanywhere-services.com\",\n",
    "                     user=\"SiyuZhou66\",\n",
    "                     passwd=\"Tim0606@\",\n",
    "                     db=\"SiyuZhou66$demo\",\n",
    "                     charset='utf8mb4')\n",
    "    user = {\"name\":\"Bernard\"}\n",
    "    with connection.cursor() as cursor:\n",
    "        sql = \"SELECT * FROM spots\"\n",
    "        cursor.execute(sql)\n",
    "        result = cursor.fetchall()\n",
    "    final_result = [list(i) for i in result]\n",
    "    dataset=[]\n",
    "    dict={}\n",
    "    for i in final_result:\n",
    "        dict['name'] = i[0]\n",
    "        dict['Photo'] = i[1]\n",
    "        dict['Address'] = i[2]\n",
    "        dict['Region'] = i[6]\n",
    "        dict['Photo_url'] = i[7]\n",
    "        dataset.append(dict.copy()) #markers.append(fld.copy())\n",
    "    cursor.close()\n",
    "    connection.close()\n",
    "    return render_template('product2.html',album_user=user, dataset=dataset)\n",
    "\n",
    "@app.route('/logout/')\n",
    "@login_required\n",
    "def logout():\n",
    "    logout_user()\n",
    "    message = 'Thanks for logging out.'\n",
    "    return render_template('login.html',message=message)\n",
    "\n",
    "@app.errorhandler(500)\n",
    "def internal_error(error):\n",
    "    message = 'Wrong password!'\n",
    "    return render_template('login.html',message=message),500\n",
    "\n",
    "######### API Endpoints ##########\n",
    "\n",
    "@app.route('/api_auth', methods=['POST'])\n",
    "def api_auth():\n",
    "    username = request.json['username']\n",
    "    password = request.json['password']\n",
    "    if username == \"1155131606@link.cuhk.edu.hk\" and password == \"1234\":\n",
    "        login_user(User(1))\n",
    "        message = \"Dear \" + username + \", welcome to Siyu's pages. Your login has been granted.\"\n",
    "        return jsonify({'response':'ok!','message':message})\n",
    "    else:\n",
    "        message = 'Wrong password!'\n",
    "        return jsonify({'response':'Invalid!','message':'Cannot authenticate.'})\n",
    "@app.route('/api_album', methods=['POST'])\n",
    "@login_required\n",
    "def api_album():\n",
    "    connection = MySQLdb.connect(host=\"SiyuZhou66.mysql.pythonanywhere-services.com\",\n",
    "                     user=\"SiyuZhou66\",\n",
    "                     passwd=\"Tim0606@\",\n",
    "                     db=\"SiyuZhou66$demo\",\n",
    "                     charset='utf8mb4')\n",
    "    with connection.cursor() as cursor:\n",
    "        sql = \"SELECT * FROM spots\"\n",
    "        cursor.execute(sql)\n",
    "        result = cursor.fetchall()\n",
    "    final_result = [list(i) for i in result]\n",
    "    dataset=[]\n",
    "    dict={}\n",
    "    for i in final_result:\n",
    "        dict['name'] = i[0]\n",
    "        dict['Photo'] = i[1]\n",
    "        dict['Address'] = i[2]\n",
    "        dict['Region'] = i[6]\n",
    "        dict['Photo_url'] = i[7]\n",
    "\n",
    "        dataset.append(dict.copy()) #markers.append(fld.copy())\n",
    "    cursor.close()\n",
    "    connection.close()\n",
    "    return jsonify({'Album': dataset})\n",
    "\n",
    "######### Run Flask Web App at Port 9030 ##########\n",
    "\n",
    "if __name__ == '__main__':\n",
    "    from werkzeug.serving import run_simple\n",
    "    run_simple('localhost', 9030, app)"
   ]
  },
  {
   "cell_type": "code",
   "execution_count": null,
   "metadata": {},
   "outputs": [],
   "source": []
  }
 ],
 "metadata": {
  "kernelspec": {
   "display_name": "Python 3",
   "language": "python",
   "name": "python3"
  },
  "language_info": {
   "codemirror_mode": {
    "name": "ipython",
    "version": 3
   },
   "file_extension": ".py",
   "mimetype": "text/x-python",
   "name": "python",
   "nbconvert_exporter": "python",
   "pygments_lexer": "ipython3",
   "version": "3.7.4"
  }
 },
 "nbformat": 4,
 "nbformat_minor": 2
}
