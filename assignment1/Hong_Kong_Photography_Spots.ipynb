{
 "cells": [
  {
   "cell_type": "markdown",
   "metadata": {},
   "source": [
    "<h1>MySQL and Airtable Data Access</h1>"
   ]
  },
  {
   "cell_type": "code",
   "execution_count": null,
   "metadata": {},
   "outputs": [],
   "source": []
  },
  {
   "cell_type": "code",
   "execution_count": null,
   "metadata": {},
   "outputs": [],
   "source": []
  },
  {
   "cell_type": "code",
   "execution_count": 4,
   "metadata": {},
   "outputs": [
    {
     "name": "stdout",
     "output_type": "stream",
     "text": [
      "Collecting pymysql\n",
      "\u001b[?25l  Downloading https://files.pythonhosted.org/packages/ed/39/15045ae46f2a123019aa968dfcba0396c161c20f855f11dea6796bcaae95/PyMySQL-0.9.3-py2.py3-none-any.whl (47kB)\n",
      "\u001b[K     |████████████████████████████████| 51kB 3.1MB/s eta 0:00:01\n",
      "\u001b[?25hInstalling collected packages: pymysql\n",
      "Successfully installed pymysql-0.9.3\n"
     ]
    }
   ],
   "source": [
    "!pip install pymysql"
   ]
  },
  {
   "cell_type": "code",
   "execution_count": 6,
   "metadata": {},
   "outputs": [],
   "source": [
    "import pymysql.cursors\n",
    "connection = pymysql.connect(host=\"localhost\", \n",
    "                     user=\"root\",   \n",
    "                     passwd=\"root\", \n",
    "                     db=\"Hong_Kong_Photography_Spots\",   \n",
    "                     charset='utf8mb4',\n",
    "                     cursorclass=pymysql.cursors.DictCursor)"
   ]
  },
  {
   "cell_type": "code",
   "execution_count": 7,
   "metadata": {},
   "outputs": [
    {
     "name": "stdout",
     "output_type": "stream",
     "text": [
      "\n",
      "\n",
      "[{'Name': 'CHI LIN NUNNERY', 'Photo': '4.jpg (https://dl.airtable.com/.attachments/96bcb95edf62589b820e6754a94338af/464a6883/4.jpg)', 'Address': '5 Chi Lin Dr, Diamond Hill', 'Near_By_MRT_Station': 'Diamond Hill', 'Whats_Unique': 'elegant wooden buildings', 'Instagram_Tag_No': 14666, 'Region': 'New Territories'}, {'Name': 'CHOI HUNG ESTATE', 'Photo': '3.jpg (https://dl.airtable.com/.attachments/25ab3aaf60707a2d9759feb931bd1467/f647008b/3.jpg)', 'Address': '2 Tse Wai Ave, Choi Hung Estate', 'Near_By_MRT_Station': 'Choi Hung', 'Whats_Unique': 'colourful condo and basketball court combo', 'Instagram_Tag_No': 17637, 'Region': 'New Territories'}, {'Name': 'FLOWER MARKET', 'Photo': '7.png (https://dl.airtable.com/.attachments/fd9882d52faa2b50ca7837b6acbb768e/8b3f88c6/7.png)', 'Address': 'Flower Market Rd, Prince Edward', 'Near_By_MRT_Station': 'Prince Edward', 'Whats_Unique': 'tons of flower shops', 'Instagram_Tag_No': 645, 'Region': 'Kowloon'}, {'Name': 'JOCKEY CLUB INNOVATION TOWER', 'Photo': 'JOCKEY CLUB.jpg (https://dl.airtable.com/.attachments/20f78de8cecf5be33157bf20165f1f0a/a770c16b/JOCKEYCLUB.jpg)', 'Address': 'The Hong Kong Polytechnic University, Hung Hom', 'Near_By_MRT_Station': 'Hung Hom Station', 'Whats_Unique': 'The white interiors and crisscrossing staircases emit a sleek and chic feel.', 'Instagram_Tag_No': 809, 'Region': 'Kowloon'}, {'Name': 'LAI TAK TSUEN', 'Photo': 'LAI TAK.jpg (https://dl.airtable.com/.attachments/ac9c9cda166dbe60253e9d5060eb2b85/ed2a37fb/LAITAK.jpg)', 'Address': 'Lai Tak Tsuen Rd, Tai Hang', 'Near_By_MRT_Station': 'Tin Hau', 'Whats_Unique': 'the estate’s blue colour echoes the warmness of a summer sky', 'Instagram_Tag_No': 1533, 'Region': 'Hong Kong Island'}, {'Name': 'LOK WAH SOUTH ESTATE', 'Photo': '1.jpg (https://dl.airtable.com/.attachments/24d60cd7b03e773d86dd9af849a0f9f2/812874ac/1.jpg)', 'Address': 'G/F, On Wah House, Lok Wah (South) Estate, Ngau Tau Kok, Kowloon, Ngau Tau Kok', 'Near_By_MRT_Station': 'Ngau Tau Kok', 'Whats_Unique': 'overlay-ed square', 'Instagram_Tag_No': 2264, 'Region': 'Kowloon'}, {'Name': 'MAN MO TEMPLE', 'Photo': '9.jpg (https://dl.airtable.com/.attachments/18265c75fe07ceef69e0f5d9172c277b/5254d3ed/9.jpg)', 'Address': '124-126 No. Hollywood Rd, Sheung Wan', 'Near_By_MRT_Station': 'Sheung Wan', 'Whats_Unique': 'gorgeous transitional temple', 'Instagram_Tag_No': 22918, 'Region': 'Hong Kong Island'}, {'Name': 'NAM SHAN ESTATE PLAYGROUND', 'Photo': 'Nam SHan.jpg (https://dl.airtable.com/.attachments/6601e3c57c3e3d3938d0738e4678f413/82d9161c/NamSHan.jpg)', 'Address': 'Nam Shan Chuen Rd, Kowloon Tsai', 'Near_By_MRT_Station': 'Kowloon Tong', 'Whats_Unique': 'the playground area, promises symmetry, perfect lighting and all-round coolness.', 'Instagram_Tag_No': 3020, 'Region': 'Kowloon'}, {'Name': 'PING SHEK ESTATE', 'Photo': '2.jpg (https://dl.airtable.com/.attachments/c1ca24df7bbdc0051648eb34981a36f6/486d8672/2.jpg)', 'Address': '2 Clear Water Bay Rd, Ping Shan', 'Near_By_MRT_Station': 'Choi Hung', 'Whats_Unique': 'trippy condo stack', 'Instagram_Tag_No': 1455, 'Region': 'New Territories'}, {'Name': 'SAI WAN SWIMMING SHED', 'Photo': 'SAi WAn.jpg (https://dl.airtable.com/.attachments/63ecf6498ffdff6e1c7330281647d0d8/780c72d5/SAiWAn.jpg)', 'Address': 'Victoria Rd, Mount Davis', 'Near_By_MRT_Station': 'Kennedy Town', 'Whats_Unique': 'this gem offers a picturesque view of crashing waves and seaside views.', 'Instagram_Tag_No': 3769, 'Region': 'Hong Kong Island'}, {'Name': 'TANK LANE', 'Photo': '10.jpg (https://dl.airtable.com/.attachments/8a8818ca066e6d94f507cb2b18bfecc9/e84250dd/10.jpg)', 'Address': '1 U Lam Terrace, Sheung Wan', 'Near_By_MRT_Station': 'Sheung Wan', 'Whats_Unique': 'street art', 'Instagram_Tag_No': 307, 'Region': 'Hong Kong Island'}, {'Name': 'WAI YIP STREET PEDESTRIAN BRIDGE', 'Photo': 'WAI YIP.jpg (https://dl.airtable.com/.attachments/1a4a10c0e6447e6afa3ff41af12d681c/8aa9c1b9/WAIYIP.jpg)', 'Address': 'Tsun Yip St, Kwun Tong', 'Near_By_MRT_Station': 'Ngau Tau Kok', 'Whats_Unique': 'the spot is hailed for its cool views on the outside, brushed concrete streaked with colour on the inside and generally endless photo ops.', 'Instagram_Tag_No': 174, 'Region': 'Kowloon'}, {'Name': 'YUEN PO BIRD GARDEN', 'Photo': '6.jpg (https://dl.airtable.com/.attachments/548c6ec44eb24fc5dead2201e69d8faa/33c4f25f/6.jpg)', 'Address': 'Yuen Po Street, Mong Kok, Prince Edward', 'Near_By_MRT_Station': 'Prince Edward', 'Whats_Unique': 'exotic birds, bamboo cages', 'Instagram_Tag_No': 136, 'Region': 'Kowloon'}]\n",
      "\n",
      "\n"
     ]
    }
   ],
   "source": [
    "with connection.cursor() as cursor:\n",
    "        sql = \"SELECT * FROM mytable\"\n",
    "        cursor.execute(sql)\n",
    "        result = cursor.fetchall()\n",
    "        dataset = []\n",
    "        temp = {}\n",
    "        i = 0\n",
    "        for row in result:\n",
    "            temp[i] = row\n",
    "            dataset.append(temp[i])\n",
    "            i = i + 1\n",
    "        print('\\n')\n",
    "        print(dataset)\n",
    "        print('\\n')"
   ]
  },
  {
   "cell_type": "code",
   "execution_count": 10,
   "metadata": {},
   "outputs": [
    {
     "name": "stdout",
     "output_type": "stream",
     "text": [
      "[{'Name': ' LOK WAH SOUTH ESTATE', 'Photo': [{'id': 'attuCUtZp9rIyeOkJ', 'url': 'https://dl.airtable.com/.attachments/24d60cd7b03e773d86dd9af849a0f9f2/812874ac/1.jpg', 'filename': '1.jpg', 'size': 60755, 'type': 'image/jpeg', 'thumbnails': {'small': {'url': 'https://dl.airtable.com/.attachmentThumbnails/7a1b601d4dd7811e533f3d7525256ac8/eec6fede', 'width': 33, 'height': 36}, 'large': {'url': 'https://dl.airtable.com/.attachmentThumbnails/65bc0feec6fb358913c563b152ff42ae/f216f77e', 'width': 512, 'height': 566}, 'full': {'url': 'https://dl.airtable.com/.attachmentThumbnails/6e20e1ffda8f859382e2e7c7e3507c23/b42b9e84', 'width': 3000, 'height': 3000}}}], 'Address': 'G/F, On Wah House, Lok Wah (South) Estate, Ngau Tau Kok, Kowloon, Ngau Tau Kok', 'Near By MRT Station': ['recVDskEwvxVAQ9bL'], \"What's Unique\": 'overlay-ed square ', 'Instagram Tag No.': 2264, 'Region': ['recaokVN2KcHe2VYQ']}, {'Name': 'PING SHEK ESTATE', 'Photo': [{'id': 'att68VITi34iyfnkS', 'url': 'https://dl.airtable.com/.attachments/c1ca24df7bbdc0051648eb34981a36f6/486d8672/2.jpg', 'filename': '2.jpg', 'size': 167300, 'type': 'image/jpeg', 'thumbnails': {'small': {'url': 'https://dl.airtable.com/.attachmentThumbnails/de86f3f696f1dd20ad621cbcb69f6c67/b1af25f2', 'width': 30, 'height': 36}, 'large': {'url': 'https://dl.airtable.com/.attachmentThumbnails/f7f18503cfafe03a5cbc078464e3ce3f/a3425c0a', 'width': 512, 'height': 605}, 'full': {'url': 'https://dl.airtable.com/.attachmentThumbnails/d8a6bbbf46e5430afa62e769c77b5df8/26f28421', 'width': 3000, 'height': 3000}}}], 'Address': '2 Clear Water Bay Rd, Ping Shan', 'Near By MRT Station': ['recvQvncIQUyZkHqz'], \"What's Unique\": 'trippy condo stack', 'Instagram Tag No.': 1455, 'Region': ['reckvx4tGimgtKUNs']}, {'Name': 'CHOI HUNG ESTATE', 'Photo': [{'id': 'att8MyMsRx8e0xBRx', 'url': 'https://dl.airtable.com/.attachments/25ab3aaf60707a2d9759feb931bd1467/f647008b/3.jpg', 'filename': '3.jpg', 'size': 68418, 'type': 'image/jpeg', 'thumbnails': {'small': {'url': 'https://dl.airtable.com/.attachmentThumbnails/2cd46f88cb2d868c82029e23b62e3fac/e9d38c04', 'width': 52, 'height': 36}, 'large': {'url': 'https://dl.airtable.com/.attachmentThumbnails/62ebbc36209c97ce60da224b2d608942/d2052d3f', 'width': 700, 'height': 489}, 'full': {'url': 'https://dl.airtable.com/.attachmentThumbnails/ca0686a8d2999c33fbeaa164478e93e4/2dd356a4', 'width': 3000, 'height': 3000}}}], 'Address': '2 Tse Wai Ave, Choi Hung Estate', 'Near By MRT Station': ['recvQvncIQUyZkHqz'], \"What's Unique\": 'colourful condo and basketball court combo', 'Instagram Tag No.': 17637, 'Region': ['reckvx4tGimgtKUNs']}, {'Name': 'CHI LIN NUNNERY', 'Photo': [{'id': 'attzKLlt5upu1EaAY', 'url': 'https://dl.airtable.com/.attachments/96bcb95edf62589b820e6754a94338af/464a6883/4.jpg', 'filename': '4.jpg', 'size': 75209, 'type': 'image/jpeg', 'thumbnails': {'small': {'url': 'https://dl.airtable.com/.attachmentThumbnails/6ad6ff17ac8b9905c0ef0ab876a84c4a/ca3b3eb1', 'width': 46, 'height': 36}, 'large': {'url': 'https://dl.airtable.com/.attachmentThumbnails/0b347a9be37235b7d86410fa956b76f0/6a4fda9e', 'width': 659, 'height': 512}, 'full': {'url': 'https://dl.airtable.com/.attachmentThumbnails/250f68f5a083d1aeae3feeab78b3d213/8c254cfc', 'width': 3000, 'height': 3000}}}], 'Address': '5 Chi Lin Dr, Diamond Hill', 'Near By MRT Station': ['rec5te0ksxOa2CryC'], \"What's Unique\": 'elegant wooden buildings', 'Instagram Tag No.': 14666, 'Region': ['reckvx4tGimgtKUNs']}, {'Name': 'YUEN PO BIRD GARDEN', 'Photo': [{'id': 'attIiUZZccOcEjG01', 'url': 'https://dl.airtable.com/.attachments/548c6ec44eb24fc5dead2201e69d8faa/33c4f25f/6.jpg', 'filename': '6.jpg', 'size': 141684, 'type': 'image/jpeg', 'thumbnails': {'small': {'url': 'https://dl.airtable.com/.attachmentThumbnails/5de0e9e984692668945259657cd5fbf3/1d289dd0', 'width': 36, 'height': 36}, 'large': {'url': 'https://dl.airtable.com/.attachmentThumbnails/fc4ef6209267fa0ee33027898fcaed2a/c221c5e9', 'width': 512, 'height': 512}, 'full': {'url': 'https://dl.airtable.com/.attachmentThumbnails/e91181f1b6ca6b4efd0b150e4a44cba1/d4c2f71c', 'width': 3000, 'height': 3000}}}], 'Address': 'Yuen Po Street, Mong Kok, Prince Edward', 'Near By MRT Station': ['recxlauErmopyKdE4'], \"What's Unique\": 'exotic birds, bamboo cages', 'Instagram Tag No.': 136, 'Region': ['recaokVN2KcHe2VYQ']}, {'Name': 'FLOWER MARKET', 'Photo': [{'id': 'att1dk80esWG5Rjez', 'url': 'https://dl.airtable.com/.attachments/fd9882d52faa2b50ca7837b6acbb768e/8b3f88c6/7.png', 'filename': '7.png', 'size': 1603383, 'type': 'image/png', 'thumbnails': {'small': {'url': 'https://dl.airtable.com/.attachmentThumbnails/b4f3539b3455e28636818505beaa980c/b8ada44a', 'width': 31, 'height': 36}, 'large': {'url': 'https://dl.airtable.com/.attachmentThumbnails/95e23843f01af616c4fcec1e81dba536/a65428fa', 'width': 512, 'height': 591}, 'full': {'url': 'https://dl.airtable.com/.attachmentThumbnails/958c023c0d59f9cf47bdcdce3d762b06/5e63f864', 'width': 3000, 'height': 3000}}}], 'Address': 'Flower Market Rd, Prince Edward', 'Near By MRT Station': ['recxlauErmopyKdE4'], \"What's Unique\": 'tons of flower shops', 'Instagram Tag No.': 645, 'Region': ['recaokVN2KcHe2VYQ']}, {'Name': 'MAN MO TEMPLE', 'Photo': [{'id': 'attz8ulpu7oSdjbKm', 'url': 'https://dl.airtable.com/.attachments/18265c75fe07ceef69e0f5d9172c277b/5254d3ed/9.jpg', 'filename': '9.jpg', 'size': 76369, 'type': 'image/jpeg', 'thumbnails': {'small': {'url': 'https://dl.airtable.com/.attachmentThumbnails/e59d0f6de67ce591c719c534a07df9dd/cdf9e0dd', 'width': 54, 'height': 36}, 'large': {'url': 'https://dl.airtable.com/.attachmentThumbnails/6ece7ed592fab0c9473ffe969ff1d8e9/0f63fa9b', 'width': 700, 'height': 467}, 'full': {'url': 'https://dl.airtable.com/.attachmentThumbnails/4b75d387d82c876ed4c282cc886033b6/0d8ea3ad', 'width': 3000, 'height': 3000}}}], 'Address': '124-126 No. Hollywood Rd, Sheung Wan', 'Near By MRT Station': ['recx2TCQl5G8E6Vqr'], \"What's Unique\": 'gorgeous transitional temple', 'Instagram Tag No.': 22918, 'Region': ['rec3UFykAt8GkrFro']}, {'Name': ' TANK LANE', 'Photo': [{'id': 'attvVpFWanX1eyctZ', 'url': 'https://dl.airtable.com/.attachments/8a8818ca066e6d94f507cb2b18bfecc9/e84250dd/10.jpg', 'filename': '10.jpg', 'size': 64510, 'type': 'image/jpeg', 'thumbnails': {'small': {'url': 'https://dl.airtable.com/.attachmentThumbnails/1692c946cc4111253eca50313cf4cbf9/17deb075', 'width': 33, 'height': 36}, 'large': {'url': 'https://dl.airtable.com/.attachmentThumbnails/75da4086fd794042e13a038fb8ec4014/169a4318', 'width': 512, 'height': 561}, 'full': {'url': 'https://dl.airtable.com/.attachmentThumbnails/9fcfaf48956d384daa309512e52940ef/3a6acb97', 'width': 3000, 'height': 3000}}}], 'Address': '1 U Lam Terrace, Sheung Wan', 'Near By MRT Station': ['recx2TCQl5G8E6Vqr'], \"What's Unique\": 'street art', 'Instagram Tag No.': 307, 'Region': ['rec3UFykAt8GkrFro']}, {'Name': 'NAM SHAN ESTATE PLAYGROUND', 'Photo': [{'id': 'attIE88AztcxfKiJ7', 'url': 'https://dl.airtable.com/.attachments/6601e3c57c3e3d3938d0738e4678f413/82d9161c/NamSHan.jpg', 'filename': 'Nam SHan.jpg', 'size': 210860, 'type': 'image/jpeg', 'thumbnails': {'small': {'url': 'https://dl.airtable.com/.attachmentThumbnails/ab6206ebfeddf10f6a0cb399063cc024/2dfe53e3', 'width': 48, 'height': 36}, 'large': {'url': 'https://dl.airtable.com/.attachmentThumbnails/3c3482b694f6fa9876daf5f93376f05c/ffdd7e69', 'width': 682, 'height': 512}, 'full': {'url': 'https://dl.airtable.com/.attachmentThumbnails/a6b05617202d98beb4e7efa836ecb94a/b197a529', 'width': 3000, 'height': 3000}}}], 'Address': 'Nam Shan Chuen Rd, Kowloon Tsai', 'Near By MRT Station': ['recH0L9yK6eAYPO5k'], \"What's Unique\": 'the playground area, promises symmetry, perfect lighting and all-round coolness.', 'Instagram Tag No.': 3020, 'Region': ['recaokVN2KcHe2VYQ']}, {'Name': 'LAI TAK TSUEN', 'Photo': [{'id': 'attuV7mhrJv76sVDy', 'url': 'https://dl.airtable.com/.attachments/ac9c9cda166dbe60253e9d5060eb2b85/ed2a37fb/LAITAK.jpg', 'filename': 'LAI TAK.jpg', 'size': 142679, 'type': 'image/jpeg', 'thumbnails': {'small': {'url': 'https://dl.airtable.com/.attachmentThumbnails/77580e78381b1522ef5cbbbe28614faf/b2c7f387', 'width': 48, 'height': 36}, 'large': {'url': 'https://dl.airtable.com/.attachmentThumbnails/8d6b811f6759dc16fc005cfefd84a1cc/9f32fbd3', 'width': 682, 'height': 512}, 'full': {'url': 'https://dl.airtable.com/.attachmentThumbnails/5bd08d7a268974d07514641b5343fbdc/ead5da86', 'width': 3000, 'height': 3000}}}], 'Address': 'Lai Tak Tsuen Rd, Tai Hang', 'Near By MRT Station': ['recZmoW6Ry9jhposb'], \"What's Unique\": 'the estate’s blue colour echoes the warmness of a summer sky', 'Instagram Tag No.': 1533, 'Region': ['rec3UFykAt8GkrFro']}, {'Name': 'JOCKEY CLUB INNOVATION TOWER', 'Photo': [{'id': 'att7OfG0dtnzovEnz', 'url': 'https://dl.airtable.com/.attachments/20f78de8cecf5be33157bf20165f1f0a/a770c16b/JOCKEYCLUB.jpg', 'filename': 'JOCKEY CLUB.jpg', 'size': 106119, 'type': 'image/jpeg', 'thumbnails': {'small': {'url': 'https://dl.airtable.com/.attachmentThumbnails/44b337859975221fedd1cf3f128641e1/2a532987', 'width': 48, 'height': 36}, 'large': {'url': 'https://dl.airtable.com/.attachmentThumbnails/dc767f51c62c552007415dc2be7563e7/b8eb9463', 'width': 682, 'height': 512}, 'full': {'url': 'https://dl.airtable.com/.attachmentThumbnails/33b70e0b26857ea6d608cf903ad05424/8b999002', 'width': 3000, 'height': 3000}}}], 'Address': 'The Hong Kong Polytechnic University, Hung Hom', 'Near By MRT Station': ['recSwMNmHCPltpHcO'], \"What's Unique\": 'The white interiors and crisscrossing staircases emit a sleek and chic feel.', 'Instagram Tag No.': 809, 'Region': ['recaokVN2KcHe2VYQ']}, {'Name': 'SAI WAN SWIMMING SHED', 'Photo': [{'id': 'attCHNPF5tGBzVDPU', 'url': 'https://dl.airtable.com/.attachments/63ecf6498ffdff6e1c7330281647d0d8/780c72d5/SAiWAn.jpg', 'filename': 'SAi WAn.jpg', 'size': 94348, 'type': 'image/jpeg', 'thumbnails': {'small': {'url': 'https://dl.airtable.com/.attachmentThumbnails/a772f7dddfccecef956296f0974788e6/db5af83d', 'width': 48, 'height': 36}, 'large': {'url': 'https://dl.airtable.com/.attachmentThumbnails/e8262a30487e3a1108e242d56c0e9e18/29a30fbe', 'width': 683, 'height': 512}, 'full': {'url': 'https://dl.airtable.com/.attachmentThumbnails/0f757fa48cf834758475f2182e8c3316/1a1bf9bd', 'width': 3000, 'height': 3000}}}], 'Address': 'Victoria Rd, Mount Davis', 'Near By MRT Station': ['recANCyYZ7yrbMlsk'], \"What's Unique\": 'this gem offers a picturesque view of crashing waves and seaside views.', 'Instagram Tag No.': 3769, 'Region': ['rec3UFykAt8GkrFro']}, {'Name': 'WAI YIP STREET PEDESTRIAN BRIDGE', 'Photo': [{'id': 'attubS92RA13pS7Iy', 'url': 'https://dl.airtable.com/.attachments/1a4a10c0e6447e6afa3ff41af12d681c/8aa9c1b9/WAIYIP.jpg', 'filename': 'WAI YIP.jpg', 'size': 109753, 'type': 'image/jpeg', 'thumbnails': {'small': {'url': 'https://dl.airtable.com/.attachmentThumbnails/f6408bc7a70a05a2ac7ff4880f5b4478/28191da2', 'width': 48, 'height': 36}, 'large': {'url': 'https://dl.airtable.com/.attachmentThumbnails/45f06e46f6e8983cd9d9b317b86f927a/1979882f', 'width': 682, 'height': 512}, 'full': {'url': 'https://dl.airtable.com/.attachmentThumbnails/d002ab7f1877898a1139fcc353e99c74/58f9e265', 'width': 3000, 'height': 3000}}}], 'Address': 'Tsun Yip St, Kwun Tong', 'Near By MRT Station': ['recVDskEwvxVAQ9bL'], \"What's Unique\": 'the spot is hailed for its cool views on the outside, brushed concrete streaked with colour on the inside and generally endless photo ops. ', 'Instagram Tag No.': 174, 'Region': ['recaokVN2KcHe2VYQ']}]\n",
      "\n",
      "\n",
      "[' LOK WAH SOUTH ESTATE', 'PING SHEK ESTATE', 'CHOI HUNG ESTATE', 'CHI LIN NUNNERY', 'YUEN PO BIRD GARDEN', 'FLOWER MARKET', 'MAN MO TEMPLE', ' TANK LANE', 'NAM SHAN ESTATE PLAYGROUND', 'LAI TAK TSUEN', 'JOCKEY CLUB INNOVATION TOWER', 'SAI WAN SWIMMING SHED', 'WAI YIP STREET PEDESTRIAN BRIDGE']\n"
     ]
    }
   ],
   "source": [
    "import requests\n",
    "\n",
    "headers = {\n",
    "'Authorization': 'Bearer <API Key>',\n",
    "}\n",
    "\n",
    "params = (\n",
    "('view', 'Grid view'),\n",
    ")\n",
    "\n",
    "r = requests.get('https://api.airtable.com/v0/appbpFRGfIh1CPxat/Hong%20Kong%20Photography%20Spots?api_key=keyfIJmVVuHtf9e2u', headers=headers, params=params)\n",
    "dict = r.json()\n",
    "dataset = []\n",
    "Name = []\n",
    "Address = []\n",
    "Region = []\n",
    "for i in dict['records']:\n",
    "     dict = i['fields']\n",
    "     dataset.append(dict)\n",
    "print(dataset)\n",
    "print('\\n')\n",
    "for dicts in dataset:\n",
    "    Name.append(dicts.get('Name'))\n",
    "    Address.append(dicts.get('Address'))\n",
    "    Region.append(dicts.get('Region'))\n",
    "print(Name)"
   ]
  },
  {
   "cell_type": "code",
   "execution_count": null,
   "metadata": {},
   "outputs": [],
   "source": []
  },
  {
   "cell_type": "code",
   "execution_count": null,
   "metadata": {},
   "outputs": [],
   "source": []
  }
 ],
 "metadata": {
  "kernelspec": {
   "display_name": "Python 3",
   "language": "python",
   "name": "python3"
  },
  "language_info": {
   "codemirror_mode": {
    "name": "ipython",
    "version": 3
   },
   "file_extension": ".py",
   "mimetype": "text/x-python",
   "name": "python",
   "nbconvert_exporter": "python",
   "pygments_lexer": "ipython3",
   "version": "3.7.4"
  }
 },
 "nbformat": 4,
 "nbformat_minor": 2
}
